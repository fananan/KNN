{
 "cells": [
  {
   "cell_type": "markdown",
   "metadata": {},
   "source": [
    "## KNN"
   ]
  },
  {
   "cell_type": "code",
   "execution_count": 28,
   "metadata": {},
   "outputs": [
    {
     "name": "stdout",
     "output_type": "stream",
     "text": [
      "[ 5.1  3.5  1.4  0.2] [ 5.7  2.6  3.5  1. ] [ 6.3  3.3  6.   2.5]\n",
      "0 1 2\n"
     ]
    }
   ],
   "source": [
    "import numpy as np\n",
    "from sklearn import datasets\n",
    "iris = datasets.load_iris()\n",
    "iris_data = iris.data\n",
    "iris_labels = iris.target\n",
    "print(iris_data[0], iris_data[79], iris_data[100])\n",
    "print(iris_labels[0], iris_labels[79], iris_labels[100])"
   ]
  },
  {
   "cell_type": "code",
   "execution_count": 33,
   "metadata": {},
   "outputs": [
    {
     "data": {
      "text/plain": [
       "{'DESCR': 'Linnerrud dataset\\n=================\\n\\nNotes\\n-----\\nData Set Characteristics:\\n    :Number of Instances: 20\\n    :Number of Attributes: 3\\n    :Missing Attribute Values: None\\n\\nThe Linnerud dataset constains two small dataset:\\n\\n- *exercise*: A list containing the following components: exercise data with\\n  20 observations on 3 exercise variables: Weight, Waist and Pulse.\\n\\n- *physiological*: Data frame with 20 observations on 3 physiological variables:\\n   Chins, Situps and Jumps.\\n\\nReferences\\n----------\\n  * Tenenhaus, M. (1998). La regression PLS: theorie et pratique. Paris: Editions Technic.\\n',\n",
       " 'data': array([[   5.,  162.,   60.],\n",
       "        [   2.,  110.,   60.],\n",
       "        [  12.,  101.,  101.],\n",
       "        [  12.,  105.,   37.],\n",
       "        [  13.,  155.,   58.],\n",
       "        [   4.,  101.,   42.],\n",
       "        [   8.,  101.,   38.],\n",
       "        [   6.,  125.,   40.],\n",
       "        [  15.,  200.,   40.],\n",
       "        [  17.,  251.,  250.],\n",
       "        [  17.,  120.,   38.],\n",
       "        [  13.,  210.,  115.],\n",
       "        [  14.,  215.,  105.],\n",
       "        [   1.,   50.,   50.],\n",
       "        [   6.,   70.,   31.],\n",
       "        [  12.,  210.,  120.],\n",
       "        [   4.,   60.,   25.],\n",
       "        [  11.,  230.,   80.],\n",
       "        [  15.,  225.,   73.],\n",
       "        [   2.,  110.,   43.]]),\n",
       " 'feature_names': ['Chins', 'Situps', 'Jumps'],\n",
       " 'target': array([[ 191.,   36.,   50.],\n",
       "        [ 189.,   37.,   52.],\n",
       "        [ 193.,   38.,   58.],\n",
       "        [ 162.,   35.,   62.],\n",
       "        [ 189.,   35.,   46.],\n",
       "        [ 182.,   36.,   56.],\n",
       "        [ 211.,   38.,   56.],\n",
       "        [ 167.,   34.,   60.],\n",
       "        [ 176.,   31.,   74.],\n",
       "        [ 154.,   33.,   56.],\n",
       "        [ 169.,   34.,   50.],\n",
       "        [ 166.,   33.,   52.],\n",
       "        [ 154.,   34.,   64.],\n",
       "        [ 247.,   46.,   50.],\n",
       "        [ 193.,   36.,   46.],\n",
       "        [ 202.,   37.,   62.],\n",
       "        [ 176.,   37.,   54.],\n",
       "        [ 157.,   32.,   52.],\n",
       "        [ 156.,   33.,   54.],\n",
       "        [ 138.,   33.,   68.]]),\n",
       " 'target_names': ['Weight', 'Waist', 'Pulse']}"
      ]
     },
     "execution_count": 33,
     "metadata": {},
     "output_type": "execute_result"
    }
   ],
   "source": [
    "#there are 7 toy datasets, when you load them, remember to add bracket\n",
    "datasets.load_boston()  #regression\n",
    "datasets.load_iris()   #classification\n",
    "datasets.load_diabetes()   #regression\n",
    "datasets.load_digits()    #classification\n",
    "datasets.load_linnerud()   #regression\n",
    "datasets.load_wine()  #classification\n",
    "datasets.load_breast_cancer() #classification"
   ]
  },
  {
   "cell_type": "code",
   "execution_count": 2,
   "metadata": {},
   "outputs": [
    {
     "data": {
      "text/plain": [
       "array([ 5.1,  3.5,  1.4,  0.2])"
      ]
     },
     "execution_count": 2,
     "metadata": {},
     "output_type": "execute_result"
    }
   ],
   "source": [
    "iris_data[0] #the row index\n",
    "iris_data[0,] #the same"
   ]
  },
  {
   "cell_type": "code",
   "execution_count": 154,
   "metadata": {},
   "outputs": [
    {
     "data": {
      "text/plain": [
       "0"
      ]
     },
     "execution_count": 154,
     "metadata": {},
     "output_type": "execute_result"
    }
   ],
   "source": [
    "iris_labels[0]"
   ]
  },
  {
   "cell_type": "code",
   "execution_count": 43,
   "metadata": {},
   "outputs": [
    {
     "name": "stdout",
     "output_type": "stream",
     "text": [
      "[[ 6.1  2.8  4.7  1.2]\n",
      " [ 5.7  3.8  1.7  0.3]\n",
      " [ 7.7  2.6  6.9  2.3]\n",
      " [ 6.   2.9  4.5  1.5]] [1 0 2 1]\n",
      "[[ 5.7  2.8  4.1  1.3]\n",
      " [ 6.5  3.   5.5  1.8]\n",
      " [ 6.3  2.3  4.4  1.3]\n",
      " [ 6.4  2.9  4.3  1.3]] [1 2 1 1]\n"
     ]
    }
   ],
   "source": [
    "np.random.seed(42)\n",
    "indices = np.random.permutation(len(iris_data))\n",
    "n_training_samples = 12\n",
    "learnset_data = iris_data[indices[:-n_training_samples]] \n",
    "learnset_labels = iris_labels[indices[:-n_training_samples]]\n",
    "testset_data = iris_data[indices[-n_training_samples:]]\n",
    "testset_labels = iris_labels[indices[-n_training_samples:]]\n",
    "print(learnset_data[:4], learnset_labels[:4])\n",
    "print(testset_data[:4], testset_labels[:4])"
   ]
  },
  {
   "cell_type": "code",
   "execution_count": 4,
   "metadata": {
    "collapsed": true
   },
   "outputs": [],
   "source": [
    "?np.random.seed #should have the same function as seed in R"
   ]
  },
  {
   "cell_type": "code",
   "execution_count": 39,
   "metadata": {},
   "outputs": [
    {
     "data": {
      "text/plain": [
       "5"
      ]
     },
     "execution_count": 39,
     "metadata": {},
     "output_type": "execute_result"
    }
   ],
   "source": [
    "a = [1,2,3,4,5] \n",
    "a[:-1]\n",
    "a[:-2] #remember in python, a[c:d] doesn't include d\n",
    "a[-1:]\n",
    "a[-2:] #begin from the last second number\n",
    "a[-1] #in python, negative doesn't mean \"remove\", but opposite direction\n"
   ]
  },
  {
   "cell_type": "code",
   "execution_count": null,
   "metadata": {
    "collapsed": true
   },
   "outputs": [],
   "source": [
    "a[-1:] #[5]\n",
    "a[-1] #5\n"
   ]
  },
  {
   "cell_type": "code",
   "execution_count": 6,
   "metadata": {},
   "outputs": [
    {
     "data": {
      "text/plain": [
       "[1, 2, 3]"
      ]
     },
     "execution_count": 6,
     "metadata": {},
     "output_type": "execute_result"
    }
   ],
   "source": [
    "a[:-2]"
   ]
  },
  {
   "cell_type": "code",
   "execution_count": 155,
   "metadata": {
    "collapsed": true
   },
   "outputs": [],
   "source": [
    "?np.random.permutation"
   ]
  },
  {
   "cell_type": "code",
   "execution_count": 152,
   "metadata": {},
   "outputs": [
    {
     "data": {
      "image/png": "[encoded data removed]",
      "text/plain": [
       "<matplotlib.figure.Figure at 0x1a0f8eb358>"
      ]
     },
     "metadata": {},
     "output_type": "display_data"
    }
   ],
   "source": [
    "%matplotlib inline \n",
    "import matplotlib.pyplot as plt\n",
    "from mpl_toolkits.mplot3d import Axes3D\n",
    "\n",
    "X = [] #you need to define X as a list before you put other lists in it\n",
    "for iclass in range(3):\n",
    "    X.append([[], [], []]) #there is a round bracket, because you use append function\n",
    "    for i in range(len(learnset_data)):\n",
    "        if learnset_labels[i] == iclass:\n",
    "            X[iclass][0].append(learnset_data[i][0]) #python stores data in a horizontal direction\n",
    "            X[iclass][1].append(learnset_data[i][1])\n",
    "            X[iclass][2].append(sum(learnset_data[i][2:]))\n",
    "colours = (\"r\", \"g\", \"y\")\n",
    "fig = plt.figure()\n",
    "ax = fig.add_subplot(111, projection='3d')\n",
    "for iclass in range(3):\n",
    "       ax.scatter(X[iclass][0], X[iclass][1], X[iclass][2], c=colours[iclass]) \n",
    "        #this color syntax is similar to the one in r: \n",
    "        #col = c(\"green3\",\"red\")[(iris.valid$Species != fit)+1]\n",
    "plt.show()"
   ]
  },
  {
   "cell_type": "code",
   "execution_count": 153,
   "metadata": {},
   "outputs": [
    {
     "data": {
      "text/plain": [
       "[[[5.7000000000000002,\n",
       "   5.4000000000000004,\n",
       "   4.7999999999999998,\n",
       "   5.5,\n",
       "   4.9000000000000004,\n",
       "   5.0999999999999996,\n",
       "   4.7000000000000002,\n",
       "   5.0,\n",
       "   4.7999999999999998,\n",
       "   4.7999999999999998,\n",
       "   4.5999999999999996,\n",
       "   5.7000000000000002,\n",
       "   4.7999999999999998,\n",
       "   4.4000000000000004,\n",
       "   5.2000000000000002,\n",
       "   5.0,\n",
       "   5.2000000000000002,\n",
       "   5.4000000000000004,\n",
       "   5.4000000000000004,\n",
       "   5.0999999999999996,\n",
       "   5.2000000000000002,\n",
       "   5.0,\n",
       "   5.0999999999999996,\n",
       "   4.7999999999999998,\n",
       "   5.0,\n",
       "   5.0999999999999996,\n",
       "   5.0999999999999996,\n",
       "   4.5999999999999996,\n",
       "   5.5,\n",
       "   5.4000000000000004,\n",
       "   5.0,\n",
       "   5.0,\n",
       "   4.9000000000000004,\n",
       "   5.0,\n",
       "   5.0,\n",
       "   4.4000000000000004,\n",
       "   4.2999999999999998,\n",
       "   4.5999999999999996,\n",
       "   5.0999999999999996,\n",
       "   4.4000000000000004,\n",
       "   4.5999999999999996,\n",
       "   4.7000000000000002,\n",
       "   5.0999999999999996,\n",
       "   4.5,\n",
       "   5.2999999999999998,\n",
       "   5.0999999999999996,\n",
       "   4.9000000000000004,\n",
       "   4.9000000000000004],\n",
       "  [3.7999999999999998,\n",
       "   3.3999999999999999,\n",
       "   3.0,\n",
       "   3.5,\n",
       "   3.1000000000000001,\n",
       "   3.7999999999999998,\n",
       "   3.2000000000000002,\n",
       "   3.3999999999999999,\n",
       "   3.0,\n",
       "   3.1000000000000001,\n",
       "   3.6000000000000001,\n",
       "   4.4000000000000004,\n",
       "   3.3999999999999999,\n",
       "   3.2000000000000002,\n",
       "   3.5,\n",
       "   3.6000000000000001,\n",
       "   4.0999999999999996,\n",
       "   3.8999999999999999,\n",
       "   3.7000000000000002,\n",
       "   3.5,\n",
       "   3.3999999999999999,\n",
       "   3.5,\n",
       "   3.7999999999999998,\n",
       "   3.3999999999999999,\n",
       "   3.0,\n",
       "   3.2999999999999998,\n",
       "   3.3999999999999999,\n",
       "   3.2000000000000002,\n",
       "   4.2000000000000002,\n",
       "   3.8999999999999999,\n",
       "   3.2999999999999998,\n",
       "   3.2000000000000002,\n",
       "   3.1000000000000001,\n",
       "   3.3999999999999999,\n",
       "   3.5,\n",
       "   2.8999999999999999,\n",
       "   3.0,\n",
       "   3.1000000000000001,\n",
       "   3.5,\n",
       "   3.0,\n",
       "   3.3999999999999999,\n",
       "   3.2000000000000002,\n",
       "   3.7999999999999998,\n",
       "   2.2999999999999998,\n",
       "   3.7000000000000002,\n",
       "   3.7000000000000002,\n",
       "   3.1000000000000001,\n",
       "   3.0],\n",
       "  [4.3999999999999986,\n",
       "   3.4999999999999996,\n",
       "   1.9000000000000004,\n",
       "   2.3000000000000003,\n",
       "   2.0000000000000004,\n",
       "   2.9999999999999996,\n",
       "   2.6000000000000005,\n",
       "   3.5999999999999996,\n",
       "   2.8999999999999995,\n",
       "   2.6000000000000005,\n",
       "   1.9999999999999998,\n",
       "   3.4999999999999996,\n",
       "   2.6000000000000005,\n",
       "   2.3000000000000003,\n",
       "   2.5000000000000004,\n",
       "   2.3999999999999999,\n",
       "   2.0000000000000004,\n",
       "   3.2999999999999998,\n",
       "   2.5000000000000004,\n",
       "   2.3999999999999999,\n",
       "   2.3999999999999999,\n",
       "   2.7999999999999998,\n",
       "   3.8999999999999995,\n",
       "   2.9000000000000008,\n",
       "   2.6000000000000005,\n",
       "   4.2000000000000002,\n",
       "   2.5000000000000004,\n",
       "   2.3999999999999999,\n",
       "   2.3999999999999999,\n",
       "   3.6999999999999997,\n",
       "   2.3999999999999999,\n",
       "   2.1999999999999997,\n",
       "   2.0000000000000004,\n",
       "   2.5000000000000004,\n",
       "   4.5999999999999996,\n",
       "   2.3999999999999999,\n",
       "   1.6000000000000005,\n",
       "   2.5000000000000004,\n",
       "   2.8999999999999995,\n",
       "   2.3000000000000003,\n",
       "   2.8999999999999995,\n",
       "   2.3000000000000003,\n",
       "   2.6000000000000005,\n",
       "   2.7999999999999998,\n",
       "   2.5000000000000004,\n",
       "   3.4999999999999996,\n",
       "   2.0000000000000004,\n",
       "   2.3999999999999999]],\n",
       " [[6.0999999999999996,\n",
       "   6.0,\n",
       "   6.7999999999999998,\n",
       "   5.5999999999999996,\n",
       "   6.2000000000000002,\n",
       "   5.7999999999999998,\n",
       "   6.2999999999999998,\n",
       "   5.5999999999999996,\n",
       "   5.7000000000000002,\n",
       "   6.7000000000000002,\n",
       "   6.4000000000000004,\n",
       "   6.0,\n",
       "   6.7000000000000002,\n",
       "   5.5,\n",
       "   6.5999999999999996,\n",
       "   5.7000000000000002,\n",
       "   5.5999999999999996,\n",
       "   5.7999999999999998,\n",
       "   5.0,\n",
       "   5.5999999999999996,\n",
       "   5.7000000000000002,\n",
       "   6.2000000000000002,\n",
       "   6.0,\n",
       "   5.4000000000000004,\n",
       "   5.5,\n",
       "   5.0,\n",
       "   5.5,\n",
       "   6.7000000000000002,\n",
       "   5.9000000000000004,\n",
       "   5.0999999999999996,\n",
       "   6.0,\n",
       "   5.5,\n",
       "   6.2999999999999998,\n",
       "   6.0999999999999996,\n",
       "   6.5,\n",
       "   7.0,\n",
       "   5.9000000000000004,\n",
       "   5.7000000000000002,\n",
       "   5.2000000000000002,\n",
       "   6.0999999999999996,\n",
       "   6.5999999999999996,\n",
       "   5.5,\n",
       "   5.5999999999999996,\n",
       "   4.9000000000000004,\n",
       "   6.9000000000000004],\n",
       "  [2.7999999999999998,\n",
       "   2.8999999999999999,\n",
       "   2.7999999999999998,\n",
       "   2.8999999999999999,\n",
       "   2.2000000000000002,\n",
       "   2.7000000000000002,\n",
       "   3.2999999999999998,\n",
       "   2.5,\n",
       "   2.7999999999999998,\n",
       "   3.1000000000000001,\n",
       "   3.2000000000000002,\n",
       "   3.3999999999999999,\n",
       "   3.1000000000000001,\n",
       "   2.3999999999999999,\n",
       "   3.0,\n",
       "   2.8999999999999999,\n",
       "   3.0,\n",
       "   2.7000000000000002,\n",
       "   2.0,\n",
       "   2.7000000000000002,\n",
       "   3.0,\n",
       "   2.8999999999999999,\n",
       "   2.2000000000000002,\n",
       "   3.0,\n",
       "   2.2999999999999998,\n",
       "   2.2999999999999998,\n",
       "   2.3999999999999999,\n",
       "   3.0,\n",
       "   3.2000000000000002,\n",
       "   2.5,\n",
       "   2.7000000000000002,\n",
       "   2.5,\n",
       "   2.5,\n",
       "   2.8999999999999999,\n",
       "   2.7999999999999998,\n",
       "   3.2000000000000002,\n",
       "   3.0,\n",
       "   2.6000000000000001,\n",
       "   2.7000000000000002,\n",
       "   3.0,\n",
       "   2.8999999999999999,\n",
       "   2.6000000000000001,\n",
       "   3.0,\n",
       "   2.3999999999999999,\n",
       "   3.1000000000000001],\n",
       "  [10.699999999999999,\n",
       "   12.0,\n",
       "   11.800000000000001,\n",
       "   10.100000000000001,\n",
       "   12.0,\n",
       "   9.8999999999999986,\n",
       "   12.699999999999999,\n",
       "   9.3999999999999986,\n",
       "   11.000000000000002,\n",
       "   11.400000000000002,\n",
       "   12.0,\n",
       "   12.499999999999998,\n",
       "   12.199999999999999,\n",
       "   8.6999999999999993,\n",
       "   11.400000000000002,\n",
       "   10.700000000000001,\n",
       "   12.0,\n",
       "   9.0999999999999996,\n",
       "   8.5,\n",
       "   10.700000000000001,\n",
       "   10.199999999999999,\n",
       "   10.800000000000001,\n",
       "   9.0,\n",
       "   12.0,\n",
       "   10.5,\n",
       "   8.3000000000000007,\n",
       "   9.2999999999999989,\n",
       "   13.499999999999998,\n",
       "   13.800000000000002,\n",
       "   8.4999999999999982,\n",
       "   13.099999999999998,\n",
       "   10.5,\n",
       "   12.4,\n",
       "   11.700000000000001,\n",
       "   12.1,\n",
       "   11.700000000000001,\n",
       "   11.699999999999999,\n",
       "   8.5,\n",
       "   10.9,\n",
       "   11.600000000000001,\n",
       "   11.100000000000001,\n",
       "   10.399999999999999,\n",
       "   10.6,\n",
       "   8.3000000000000007,\n",
       "   12.4]],\n",
       " [[7.7000000000000002,\n",
       "   6.9000000000000004,\n",
       "   6.5,\n",
       "   6.5,\n",
       "   6.4000000000000004,\n",
       "   6.0999999999999996,\n",
       "   6.4000000000000004,\n",
       "   7.9000000000000004,\n",
       "   6.7000000000000002,\n",
       "   6.7000000000000002,\n",
       "   6.7999999999999998,\n",
       "   6.2999999999999998,\n",
       "   5.7999999999999998,\n",
       "   6.2999999999999998,\n",
       "   6.4000000000000004,\n",
       "   7.2000000000000002,\n",
       "   7.5999999999999996,\n",
       "   7.7000000000000002,\n",
       "   6.2999999999999998,\n",
       "   7.7000000000000002,\n",
       "   5.7000000000000002,\n",
       "   6.0,\n",
       "   5.7999999999999998,\n",
       "   6.2000000000000002,\n",
       "   6.4000000000000004,\n",
       "   5.7999999999999998,\n",
       "   6.9000000000000004,\n",
       "   6.0999999999999996,\n",
       "   7.7000000000000002,\n",
       "   6.0,\n",
       "   7.2000000000000002,\n",
       "   6.2999999999999998,\n",
       "   6.7999999999999998,\n",
       "   6.2999999999999998,\n",
       "   6.2000000000000002,\n",
       "   6.4000000000000004,\n",
       "   6.9000000000000004,\n",
       "   6.5,\n",
       "   7.2999999999999998,\n",
       "   6.7000000000000002,\n",
       "   6.7000000000000002,\n",
       "   7.2000000000000002,\n",
       "   6.7000000000000002,\n",
       "   7.4000000000000004,\n",
       "   6.2999999999999998],\n",
       "  [2.6000000000000001,\n",
       "   3.1000000000000001,\n",
       "   3.2000000000000002,\n",
       "   3.0,\n",
       "   2.7999999999999998,\n",
       "   3.0,\n",
       "   2.7999999999999998,\n",
       "   3.7999999999999998,\n",
       "   3.0,\n",
       "   2.5,\n",
       "   3.2000000000000002,\n",
       "   2.5,\n",
       "   2.7000000000000002,\n",
       "   2.7999999999999998,\n",
       "   3.1000000000000001,\n",
       "   3.6000000000000001,\n",
       "   3.0,\n",
       "   2.7999999999999998,\n",
       "   2.7000000000000002,\n",
       "   3.7999999999999998,\n",
       "   2.5,\n",
       "   3.0,\n",
       "   2.7000000000000002,\n",
       "   3.3999999999999999,\n",
       "   2.7000000000000002,\n",
       "   2.7999999999999998,\n",
       "   3.2000000000000002,\n",
       "   2.6000000000000001,\n",
       "   3.0,\n",
       "   2.2000000000000002,\n",
       "   3.2000000000000002,\n",
       "   3.3999999999999999,\n",
       "   3.0,\n",
       "   3.2999999999999998,\n",
       "   2.7999999999999998,\n",
       "   3.2000000000000002,\n",
       "   3.1000000000000001,\n",
       "   3.0,\n",
       "   2.8999999999999999,\n",
       "   3.2999999999999998,\n",
       "   3.2999999999999998,\n",
       "   3.0,\n",
       "   3.1000000000000001,\n",
       "   2.7999999999999998,\n",
       "   2.8999999999999999],\n",
       "  [18.400000000000002,\n",
       "   16.600000000000001,\n",
       "   15.1,\n",
       "   16.799999999999997,\n",
       "   16.599999999999998,\n",
       "   13.900000000000002,\n",
       "   16.099999999999998,\n",
       "   16.399999999999999,\n",
       "   16.700000000000003,\n",
       "   14.800000000000002,\n",
       "   17.400000000000002,\n",
       "   14.500000000000002,\n",
       "   14.600000000000001,\n",
       "   12.6,\n",
       "   14.500000000000002,\n",
       "   18.600000000000001,\n",
       "   17.099999999999998,\n",
       "   16.699999999999999,\n",
       "   13.900000000000002,\n",
       "   17.699999999999999,\n",
       "   15.0,\n",
       "   13.800000000000002,\n",
       "   14.600000000000001,\n",
       "   16.900000000000002,\n",
       "   14.800000000000001,\n",
       "   17.100000000000001,\n",
       "   17.200000000000003,\n",
       "   12.600000000000001,\n",
       "   17.600000000000001,\n",
       "   12.5,\n",
       "   15.000000000000002,\n",
       "   17.600000000000001,\n",
       "   15.999999999999998,\n",
       "   18.5,\n",
       "   13.800000000000002,\n",
       "   16.800000000000001,\n",
       "   15.899999999999999,\n",
       "   15.199999999999999,\n",
       "   15.300000000000002,\n",
       "   16.199999999999999,\n",
       "   18.199999999999999,\n",
       "   13.799999999999999,\n",
       "   17.600000000000001,\n",
       "   15.600000000000001,\n",
       "   14.600000000000001]]]"
      ]
     },
     "execution_count": 153,
     "metadata": {},
     "output_type": "execute_result"
    }
   ],
   "source": [
    "X"
   ]
  },
  {
   "cell_type": "code",
   "execution_count": 172,
   "metadata": {},
   "outputs": [
    {
     "data": {
      "text/plain": [
       "[[array([ 5.7,  3.8,  4.4]),\n",
       "  array([ 5.4,  3.4,  3.5]),\n",
       "  array([ 4.8,  3. ,  1.9]),\n",
       "  array([ 5.5,  3.5,  2.3]),\n",
       "  array([ 4.9,  3.1,  2. ]),\n",
       "  array([ 5.1,  3.8,  3. ]),\n",
       "  array([ 4.7,  3.2,  2.6]),\n",
       "  array([ 5. ,  3.4,  3.6]),\n",
       "  array([ 4.8,  3. ,  2.9]),\n",
       "  array([ 4.8,  3.1,  2.6]),\n",
       "  array([ 4.6,  3.6,  2. ]),\n",
       "  array([ 5.7,  4.4,  3.5]),\n",
       "  array([ 4.8,  3.4,  2.6]),\n",
       "  array([ 4.4,  3.2,  2.3]),\n",
       "  array([ 5.2,  3.5,  2.5]),\n",
       "  array([ 5. ,  3.6,  2.4]),\n",
       "  array([ 5.2,  4.1,  2. ]),\n",
       "  array([ 5.4,  3.9,  3.3]),\n",
       "  array([ 5.4,  3.7,  2.5]),\n",
       "  array([ 5.1,  3.5,  2.4]),\n",
       "  array([ 5.2,  3.4,  2.4]),\n",
       "  array([ 5. ,  3.5,  2.8]),\n",
       "  array([ 5.1,  3.8,  3.9]),\n",
       "  array([ 4.8,  3.4,  2.9]),\n",
       "  array([ 5. ,  3. ,  2.6]),\n",
       "  array([ 5.1,  3.3,  4.2]),\n",
       "  array([ 5.1,  3.4,  2.5]),\n",
       "  array([ 4.6,  3.2,  2.4]),\n",
       "  array([ 5.5,  4.2,  2.4]),\n",
       "  array([ 5.4,  3.9,  3.7]),\n",
       "  array([ 5. ,  3.3,  2.4]),\n",
       "  array([ 5. ,  3.2,  2.2]),\n",
       "  array([ 4.9,  3.1,  2. ]),\n",
       "  array([ 5. ,  3.4,  2.5]),\n",
       "  array([ 5. ,  3.5,  4.6]),\n",
       "  array([ 4.4,  2.9,  2.4]),\n",
       "  array([ 4.3,  3. ,  1.6]),\n",
       "  array([ 4.6,  3.1,  2.5]),\n",
       "  array([ 5.1,  3.5,  2.9]),\n",
       "  array([ 4.4,  3. ,  2.3]),\n",
       "  array([ 4.6,  3.4,  2.9]),\n",
       "  array([ 4.7,  3.2,  2.3]),\n",
       "  array([ 5.1,  3.8,  2.6]),\n",
       "  array([ 4.5,  2.3,  2.8]),\n",
       "  array([ 5.3,  3.7,  2.5]),\n",
       "  array([ 5.1,  3.7,  3.5]),\n",
       "  array([ 4.9,  3.1,  2. ]),\n",
       "  array([ 4.9,  3. ,  2.4])],\n",
       " [array([  6.1,   2.8,  13.1]),\n",
       "  array([  6. ,   2.9,  12. ]),\n",
       "  array([  6.8,   2.8,  11.8]),\n",
       "  array([  5.6,   2.9,  10.1]),\n",
       "  array([  6.2,   2.2,  12. ]),\n",
       "  array([ 5.8,  2.7,  9.9]),\n",
       "  array([  6.3,   3.3,  12.7]),\n",
       "  array([ 5.6,  2.5,  9.4]),\n",
       "  array([  5.7,   2.8,  11. ]),\n",
       "  array([  6.7,   3.1,  11.4]),\n",
       "  array([  6.4,   3.2,  12. ]),\n",
       "  array([  6. ,   3.4,  12.5]),\n",
       "  array([  6.7,   3.1,  12.2]),\n",
       "  array([ 5.5,  2.4,  8.7]),\n",
       "  array([  6.6,   3. ,  11.4]),\n",
       "  array([  5.7,   2.9,  10.7]),\n",
       "  array([  5.6,   3. ,  12. ]),\n",
       "  array([ 5.8,  2.7,  9.1]),\n",
       "  array([ 5. ,  2. ,  8.5]),\n",
       "  array([  5.6,   2.7,  10.7]),\n",
       "  array([  5.7,   3. ,  10.2]),\n",
       "  array([  6.2,   2.9,  10.8]),\n",
       "  array([ 6. ,  2.2,  9. ]),\n",
       "  array([  5.4,   3. ,  12. ]),\n",
       "  array([  5.5,   2.3,  10.5]),\n",
       "  array([ 5. ,  2.3,  8.3]),\n",
       "  array([ 5.5,  2.4,  9.3]),\n",
       "  array([  6.7,   3. ,  13.5]),\n",
       "  array([  5.9,   3.2,  13.8]),\n",
       "  array([ 5.1,  2.5,  8.5]),\n",
       "  array([  6. ,   2.7,  13.1]),\n",
       "  array([  5.5,   2.5,  10.5]),\n",
       "  array([  6.3,   2.5,  12.4]),\n",
       "  array([  6.1,   2.9,  11.7]),\n",
       "  array([  6.5,   2.8,  12.1]),\n",
       "  array([  7. ,   3.2,  11.7]),\n",
       "  array([  5.9,   3. ,  11.7]),\n",
       "  array([ 5.7,  2.6,  8.5]),\n",
       "  array([  5.2,   2.7,  10.9]),\n",
       "  array([  6.1,   3. ,  11.6]),\n",
       "  array([  6.6,   2.9,  11.1]),\n",
       "  array([  5.5,   2.6,  10.4]),\n",
       "  array([  5.6,   3. ,  10.6]),\n",
       "  array([ 4.9,  2.4,  8.3]),\n",
       "  array([  6.9,   3.1,  12.4])],\n",
       " [array([  7.7,   2.6,  18.4]),\n",
       "  array([  6.9,   3.1,  16.6]),\n",
       "  array([  6.5,   3.2,  15.1]),\n",
       "  array([  6.5,   3. ,  16.8]),\n",
       "  array([  6.4,   2.8,  16.6]),\n",
       "  array([  6.1,   3. ,  13.9]),\n",
       "  array([  6.4,   2.8,  16.1]),\n",
       "  array([  7.9,   3.8,  16.4]),\n",
       "  array([  6.7,   3. ,  16.7]),\n",
       "  array([  6.7,   2.5,  14.8]),\n",
       "  array([  6.8,   3.2,  17.4]),\n",
       "  array([  6.3,   2.5,  14.5]),\n",
       "  array([  5.8,   2.7,  14.6]),\n",
       "  array([  6.3,   2.8,  12.6]),\n",
       "  array([  6.4,   3.1,  14.5]),\n",
       "  array([  7.2,   3.6,  18.6]),\n",
       "  array([  7.6,   3. ,  17.1]),\n",
       "  array([  7.7,   2.8,  16.7]),\n",
       "  array([  6.3,   2.7,  13.9]),\n",
       "  array([  7.7,   3.8,  17.7]),\n",
       "  array([  5.7,   2.5,  15. ]),\n",
       "  array([  6. ,   3. ,  13.8]),\n",
       "  array([  5.8,   2.7,  14.6]),\n",
       "  array([  6.2,   3.4,  16.9]),\n",
       "  array([  6.4,   2.7,  14.8]),\n",
       "  array([  5.8,   2.8,  17.1]),\n",
       "  array([  6.9,   3.2,  17.2]),\n",
       "  array([  6.1,   2.6,  12.6]),\n",
       "  array([  7.7,   3. ,  17.6]),\n",
       "  array([  6. ,   2.2,  12.5]),\n",
       "  array([  7.2,   3.2,  15. ]),\n",
       "  array([  6.3,   3.4,  17.6]),\n",
       "  array([  6.8,   3. ,  16. ]),\n",
       "  array([  6.3,   3.3,  18.5]),\n",
       "  array([  6.2,   2.8,  13.8]),\n",
       "  array([  6.4,   3.2,  16.8]),\n",
       "  array([  6.9,   3.1,  15.9]),\n",
       "  array([  6.5,   3. ,  15.2]),\n",
       "  array([  7.3,   2.9,  15.3]),\n",
       "  array([  6.7,   3.3,  16.2]),\n",
       "  array([  6.7,   3.3,  18.2]),\n",
       "  array([  7.2,   3. ,  13.8]),\n",
       "  array([  6.7,   3.1,  17.6]),\n",
       "  array([  7.4,   2.8,  15.6]),\n",
       "  array([  6.3,   2.9,  14.6])]]"
      ]
     },
     "execution_count": 172,
     "metadata": {},
     "output_type": "execute_result"
    }
   ],
   "source": [
    "#the other way to reduce learnset data to three dim and visualize it \n",
    "x = []\n",
    "for iclass in range(3):\n",
    "    x.append([])\n",
    "    for i in range(len(learnset_data)):\n",
    "        if learnset_labels[i] == iclass:\n",
    "            x[iclass].append(learnset_data[i])  #you can't use sum here, cuz every time you iterate iclass\n",
    "            #the structure of x changes\n",
    "\n",
    "for i in range(3):\n",
    "    for j in range(len(x[i])):\n",
    "        x[i][j][2] = sum(x[i][j][2:])\n",
    "        x[i][j] = np.delete(x[i][j],3)\n",
    "        \n",
    "x"
   ]
  },
  {
   "cell_type": "code",
   "execution_count": 163,
   "metadata": {},
   "outputs": [
    {
     "data": {
      "text/plain": [
       "array([  6.1,   2.8,  11.9,   1.2])"
      ]
     },
     "execution_count": 163,
     "metadata": {},
     "output_type": "execute_result"
    }
   ],
   "source": [
    "x = []\n",
    "for iclass in range(3):\n",
    "    x.append([])\n",
    "    for i in range(len(learnset_data)):\n",
    "        if learnset_labels[i] == iclass:\n",
    "            x[iclass].append(learnset_data[i])  #you can't use sum here, cuz every time you iterate iclass\n",
    "            #the structure of x changes\n",
    "x[1]\n",
    "\n",
    "x[1][0][2] = sum(x[1][0][2:]) \n",
    "x[1][0]"
   ]
  },
  {
   "cell_type": "code",
   "execution_count": 164,
   "metadata": {},
   "outputs": [
    {
     "data": {
      "text/plain": [
       "array([  6.1,   2.8,  11.9,   1.2])"
      ]
     },
     "execution_count": 164,
     "metadata": {},
     "output_type": "execute_result"
    }
   ],
   "source": [
    "learnset_data[0]"
   ]
  },
  {
   "cell_type": "code",
   "execution_count": 171,
   "metadata": {},
   "outputs": [
    {
     "data": {
      "text/plain": [
       "array([9, 2, 3, 4, 5])"
      ]
     },
     "execution_count": 171,
     "metadata": {},
     "output_type": "execute_result"
    }
   ],
   "source": [
    "s = np.array([1,2,3,4,5])\n",
    "np.delete(s, 3)\n",
    "s[0] = sum(s[3:])\n",
    "s"
   ]
  },
  {
   "cell_type": "code",
   "execution_count": 126,
   "metadata": {},
   "outputs": [
    {
     "data": {
      "text/plain": [
       "[6, 2, 4, 5]"
      ]
     },
     "execution_count": 126,
     "metadata": {},
     "output_type": "execute_result"
    }
   ],
   "source": [
    "m = [1,2,3,4,5]\n",
    "m[0] = sum(m[:3])\n",
    "m #it works\n",
    "m.pop(m[1])\n",
    "m"
   ]
  },
  {
   "cell_type": "code",
   "execution_count": 131,
   "metadata": {},
   "outputs": [
    {
     "data": {
      "text/plain": [
       "[1, 5, 6, 7, 9]"
      ]
     },
     "execution_count": 131,
     "metadata": {},
     "output_type": "execute_result"
    }
   ],
   "source": [
    "n = [1,2,3,5,6,7,8,9]\n",
    "\n",
    "del n[1:3]\n",
    "n\n",
    "\n",
    "n.remove(8)  #remove 要明确表示删的哪个值\n",
    "n"
   ]
  },
  {
   "cell_type": "code",
   "execution_count": 81,
   "metadata": {},
   "outputs": [
    {
     "data": {
      "text/plain": [
       "[[], []]"
      ]
     },
     "execution_count": 81,
     "metadata": {},
     "output_type": "execute_result"
    }
   ],
   "source": [
    "c = []\n",
    "c.append([])\n",
    "c.append([])\n",
    "c"
   ]
  },
  {
   "cell_type": "code",
   "execution_count": 78,
   "metadata": {},
   "outputs": [
    {
     "data": {
      "text/plain": [
       "6.0999999999999996"
      ]
     },
     "execution_count": 78,
     "metadata": {},
     "output_type": "execute_result"
    }
   ],
   "source": [
    "learnset_data[0][0]\n"
   ]
  },
  {
   "cell_type": "code",
   "execution_count": 8,
   "metadata": {},
   "outputs": [
    {
     "data": {
      "text/plain": [
       "range(0, 3)"
      ]
     },
     "execution_count": 8,
     "metadata": {},
     "output_type": "execute_result"
    }
   ],
   "source": [
    "range(3)"
   ]
  },
  {
   "cell_type": "code",
   "execution_count": 55,
   "metadata": {},
   "outputs": [
    {
     "data": {
      "text/plain": [
       "6.0999999999999996"
      ]
     },
     "execution_count": 55,
     "metadata": {},
     "output_type": "execute_result"
    }
   ],
   "source": [
    "learnset_data[0][0] #the first element in the second row"
   ]
  },
  {
   "cell_type": "code",
   "execution_count": 10,
   "metadata": {
    "collapsed": true
   },
   "outputs": [],
   "source": [
    "?plt.figure().add_subplot()"
   ]
  },
  {
   "cell_type": "code",
   "execution_count": 85,
   "metadata": {},
   "outputs": [
    {
     "data": {
      "image/png": "[encoded data removed]",
      "text/plain": [
       "<matplotlib.figure.Figure at 0x1a17e52ba8>"
      ]
     },
     "metadata": {},
     "output_type": "display_data"
    }
   ],
   "source": [
    "#it seems these steps are required if you wanna do the plot in python\n",
    "x = [1, 2, 3, 4, 5]\n",
    "y = [1, 4, 9, 16, 25]\n",
    "fig = plt.figure() #first\n",
    "ax = fig.add_subplot(111) #then add_subplot\n",
    "ax.scatter(x, y, color=\"r\") #like the example above, you can use loop to color values in different classes \n",
    "plt.show() #must-have at the end"
   ]
  },
  {
   "cell_type": "code",
   "execution_count": 90,
   "metadata": {},
   "outputs": [
    {
     "data": {
      "image/png": "[encoded data removed]",
      "text/plain": [
       "<matplotlib.figure.Figure at 0x1a180b0278>"
      ]
     },
     "metadata": {},
     "output_type": "display_data"
    }
   ],
   "source": [
    "plt.figure().add_subplot(111).scatter(x, y) #this can show the graph too, but comes out with <matplotlib> label\n",
    "plt.show() #the label is gone\n"
   ]
  },
  {
   "cell_type": "code",
   "execution_count": 32,
   "metadata": {},
   "outputs": [
    {
     "data": {
      "text/plain": [
       "6.0999999999999996"
      ]
     },
     "execution_count": 32,
     "metadata": {},
     "output_type": "execute_result"
    }
   ],
   "source": [
    "learnset_data[0][0]"
   ]
  },
  {
   "cell_type": "code",
   "execution_count": 92,
   "metadata": {},
   "outputs": [
    {
     "data": {
      "text/plain": [
       "[[[1], [], []]]"
      ]
     },
     "execution_count": 92,
     "metadata": {},
     "output_type": "execute_result"
    }
   ],
   "source": [
    "#exam how append() works\n",
    "Y = []\n",
    "Y.append([[],[],[]])\n",
    "Y[0][0].append(1)\n",
    "Y"
   ]
  },
  {
   "cell_type": "code",
   "execution_count": 94,
   "metadata": {},
   "outputs": [
    {
     "data": {
      "text/plain": [
       "[[[1, 2, 2], [], []]]"
      ]
     },
     "execution_count": 94,
     "metadata": {},
     "output_type": "execute_result"
    }
   ],
   "source": [
    "Y[0][0].append(2)\n",
    "Y"
   ]
  },
  {
   "cell_type": "code",
   "execution_count": 43,
   "metadata": {},
   "outputs": [
    {
     "name": "stdout",
     "output_type": "stream",
     "text": [
      "4.472135955\n",
      "3.41906419946\n"
     ]
    }
   ],
   "source": [
    "#determine the neighbors\n",
    "def distance(instance1, instance2):\n",
    "    # just in case, if the instances are lists or tuples:\n",
    "    instance1 = np.array(instance1) \n",
    "    instance2 = np.array(instance2)\n",
    "    \n",
    "    return np.linalg.norm(instance1 - instance2) \n",
    "# just np.linalg.norm(x - y)) will give you Euclidean distance between the vectors x and y.\n",
    "print(distance([3, 5], [1, 1]))\n",
    "print(distance(learnset_data[3], learnset_data[44]))"
   ]
  },
  {
   "cell_type": "code",
   "execution_count": 44,
   "metadata": {
    "collapsed": true
   },
   "outputs": [],
   "source": [
    "strange_list = [(1, 2), [1, 2], '12', 12, 12.0]"
   ]
  },
  {
   "cell_type": "code",
   "execution_count": 45,
   "metadata": {},
   "outputs": [
    {
     "data": {
      "text/plain": [
       "[(1, 2)]"
      ]
     },
     "execution_count": 45,
     "metadata": {},
     "output_type": "execute_result"
    }
   ],
   "source": [
    "strange_list[0:1]"
   ]
  },
  {
   "cell_type": "code",
   "execution_count": 46,
   "metadata": {},
   "outputs": [
    {
     "data": {
      "text/plain": [
       "(1, 2)"
      ]
     },
     "execution_count": 46,
     "metadata": {},
     "output_type": "execute_result"
    }
   ],
   "source": [
    "strange_list[0]"
   ]
  },
  {
   "cell_type": "code",
   "execution_count": 47,
   "metadata": {},
   "outputs": [
    {
     "data": {
      "text/plain": [
       "'12'"
      ]
     },
     "execution_count": 47,
     "metadata": {},
     "output_type": "execute_result"
    }
   ],
   "source": [
    "strange_list[2]"
   ]
  },
  {
   "cell_type": "code",
   "execution_count": 48,
   "metadata": {},
   "outputs": [
    {
     "data": {
      "text/plain": [
       "['12']"
      ]
     },
     "execution_count": 48,
     "metadata": {},
     "output_type": "execute_result"
    }
   ],
   "source": [
    "strange_list[2:3]"
   ]
  },
  {
   "cell_type": "code",
   "execution_count": 96,
   "metadata": {},
   "outputs": [
    {
     "data": {
      "text/plain": [
       "[[1, 2], [5, 6, 7, 7]]"
      ]
     },
     "execution_count": 96,
     "metadata": {},
     "output_type": "execute_result"
    }
   ],
   "source": [
    "c = []\n",
    "c.append([1,2])\n",
    "c.append([5,6,7,7])\n",
    "c"
   ]
  },
  {
   "cell_type": "code",
   "execution_count": 57,
   "metadata": {},
   "outputs": [
    {
     "data": {
      "text/plain": [
       "array([ 0.,  0.,  0.,  0.,  0.])"
      ]
     },
     "execution_count": 57,
     "metadata": {},
     "output_type": "execute_result"
    }
   ],
   "source": [
    "?np.linalg.norm\n",
    "?np.zeros #Return a new array of given shape and type, filled with zeros.\n",
    "np.zeros(5)"
   ]
  },
  {
   "cell_type": "code",
   "execution_count": 55,
   "metadata": {},
   "outputs": [
    {
     "data": {
      "text/plain": [
       "array([0, 0, 0, 0, 0])"
      ]
     },
     "execution_count": 55,
     "metadata": {},
     "output_type": "execute_result"
    }
   ],
   "source": [
    "np.zeros(5, dtype=np.int)"
   ]
  },
  {
   "cell_type": "code",
   "execution_count": 56,
   "metadata": {},
   "outputs": [
    {
     "data": {
      "text/plain": [
       "array([[ 0.],\n",
       "       [ 0.]])"
      ]
     },
     "execution_count": 56,
     "metadata": {},
     "output_type": "execute_result"
    }
   ],
   "source": [
    "np.zeros((2,1))"
   ]
  },
  {
   "cell_type": "code",
   "execution_count": 59,
   "metadata": {
    "collapsed": true
   },
   "outputs": [],
   "source": [
    "?np.linalg.norm"
   ]
  },
  {
   "cell_type": "code",
   "execution_count": 65,
   "metadata": {
    "collapsed": true
   },
   "outputs": [],
   "source": [
    "def get_neighbors(training_set, \n",
    "                  labels, \n",
    "                  test_instance, \n",
    "                  k, \n",
    "                  distance=distance):\n",
    "    \"\"\"\n",
    "    get_neighors calculates a list of the k nearest neighbors\n",
    "    of an instance 'test_instance'.\n",
    "    The list neighbors contains 3-tuples with  \n",
    "    (index, dist, label)\n",
    "    where \n",
    "    index    is the index from the training_set, \n",
    "    dist     is the distance between the test_instance and the \n",
    "             instance training_set[index]\n",
    "    distance is a reference to a function used to calculate the \n",
    "             distances\n",
    "    \"\"\"\n",
    "    distances = []\n",
    "    for index in range(len(training_set)):\n",
    "        dist = distance(test_instance, training_set[index]) \n",
    "        #for each test instance, calculate its distance with all other training set value \n",
    "        distances.append((training_set[index], dist, labels[index]))\n",
    "    distances.sort(key=lambda x: x[1]) #key means sort by...here it means sort distances by \n",
    "    #the second value in distance\n",
    "    neighbors = distances[:k]\n",
    "    return neighbors\n",
    "\n"
   ]
  },
  {
   "cell_type": "code",
   "execution_count": 105,
   "metadata": {
    "collapsed": true
   },
   "outputs": [],
   "source": [
    "?np.sort  #default sorting direction is descending"
   ]
  },
  {
   "cell_type": "code",
   "execution_count": 131,
   "metadata": {},
   "outputs": [
    {
     "name": "stdout",
     "output_type": "stream",
     "text": [
      "0 [ 5.7  2.8  4.1  1.3] 1 [(array([ 5.7,  2.9,  4.2,  1.3]), 0.14142135623730995, 1), (array([ 5.6,  2.7,  4.2,  1.3]), 0.17320508075688815, 1), (array([ 5.6,  3. ,  4.1,  1.3]), 0.22360679774997935, 1)]\n",
      "1 [ 6.5  3.   5.5  1.8] 2 [(array([ 6.4,  3.1,  5.5,  1.8]), 0.14142135623730931, 2), (array([ 6.3,  2.9,  5.6,  1.8]), 0.24494897427831783, 2), (array([ 6.5,  3. ,  5.2,  2. ]), 0.36055512754639879, 2)]\n",
      "2 [ 6.3  2.3  4.4  1.3] 1 [(array([ 6.2,  2.2,  4.5,  1.5]), 0.26457513110645858, 1), (array([ 6.3,  2.5,  4.9,  1.5]), 0.57445626465380295, 1), (array([ 6. ,  2.2,  4. ,  1. ]), 0.5916079783099617, 1)]\n",
      "3 [ 6.4  2.9  4.3  1.3] 1 [(array([ 6.2,  2.9,  4.3,  1.3]), 0.20000000000000018, 1), (array([ 6.6,  3. ,  4.4,  1.4]), 0.26457513110645869, 1), (array([ 6.6,  2.9,  4.6,  1.3]), 0.3605551275463984, 1)]\n",
      "4 [ 5.6  2.8  4.9  2. ] 2 [(array([ 5.8,  2.7,  5.1,  1.9]), 0.3162277660168375, 2), (array([ 5.8,  2.7,  5.1,  1.9]), 0.3162277660168375, 2), (array([ 5.7,  2.5,  5. ,  2. ]), 0.33166247903553986, 2)]\n"
     ]
    }
   ],
   "source": [
    "for i in range(5):\n",
    "    neighbors = get_neighbors(learnset_data, \n",
    "                              learnset_labels, \n",
    "                              testset_data[i], \n",
    "                              3, \n",
    "                              distance=distance)\n",
    "    print(i, \n",
    "          testset_data[i], \n",
    "          testset_labels[i], \n",
    "          neighbors)\n",
    "#using testdata here just want to see those test data's neighbors\n",
    "#this result is too good..the closet three labels are the same as test lable..\n",
    "#although in the output, the format of testset_data is list, in definition of testdata, it already converts its format to array"
   ]
  },
  {
   "cell_type": "code",
   "execution_count": 67,
   "metadata": {
    "collapsed": true
   },
   "outputs": [],
   "source": [
    "from collections import Counter\n",
    "def vote(neighbors):\n",
    "    class_counter = Counter()\n",
    "    for neighbor in neighbors:  #dumb..neighbor can be named as anything else too\n",
    "        #it's just for indexing neighbors\n",
    "        class_counter[neighbor[2]] += 1 #remember neighbot[2] is label, not distance...\n",
    "        #?if neighbor[2] are not the same, will they be added together? No\n",
    "    return class_counter.most_common(1)[0][0] \n",
    "#.most_commnon(1) returns format: [(,)], so the first [0] extracts (), the second [0] extracts the first elem in ()"
   ]
  },
  {
   "cell_type": "code",
   "execution_count": 77,
   "metadata": {
    "collapsed": true
   },
   "outputs": [],
   "source": [
    "?Counter"
   ]
  },
  {
   "cell_type": "code",
   "execution_count": 94,
   "metadata": {},
   "outputs": [
    {
     "data": {
      "text/plain": [
       "Counter()"
      ]
     },
     "execution_count": 94,
     "metadata": {},
     "output_type": "execute_result"
    }
   ],
   "source": [
    "c = Counter('abcdeabcdabcaba') #count elements from a string\n",
    "c.most_common(3)  #three most common elements\n",
    "sorted(c) #list all unique elements\n",
    "''.join(sorted(c.elements())) #list emlements with repetitions\n",
    "c.elements \n",
    "#<bound method Counter.elements of Counter({'a': 5, 'b': 4, 'c': 3, 'd': 2, 'e': 1})>\n",
    "sum(c.values()) #total of all counts\n",
    "c['a'] #count of letter 'a'\n",
    "\n",
    "#update counts from an iterable\n",
    "for elem in 'shazam':\n",
    "    c[elem] += 1\n",
    "c['a'] #only the count of 'a' changes, because shazam only has a \n",
    "\n",
    "del c['b'] #remove all 'b'; so b count now is 0\n",
    "\n",
    "d = Counter('simsalabim') #return each unique element and its count\n",
    "c.update(d) \n",
    "c #if c already has letters that are also in d, then the count number will be added up together;\n",
    "#if c doesn't have letters that are in d, d will just add them to c\n",
    "\n",
    "c.clear() #empty the counter; if there is no bracket, it will only display <function Counter.clear>\n",
    "c"
   ]
  },
  {
   "cell_type": "code",
   "execution_count": 76,
   "metadata": {
    "collapsed": true
   },
   "outputs": [],
   "source": [
    "?str.join \n",
    "#Return a string which is the concatenation of the strings in the iterable.  \n",
    "#The separator between elements is S."
   ]
  },
  {
   "cell_type": "code",
   "execution_count": 78,
   "metadata": {},
   "outputs": [
    {
     "data": {
      "text/plain": [
       "['a', 'a', 'a', 'a', 'a', 'b', 'b', 'b', 'b', 'c', 'c', 'c', 'd', 'd', 'e']"
      ]
     },
     "execution_count": 78,
     "metadata": {},
     "output_type": "execute_result"
    }
   ],
   "source": [
    "sorted(c.elements())"
   ]
  },
  {
   "cell_type": "code",
   "execution_count": 138,
   "metadata": {},
   "outputs": [
    {
     "data": {
      "text/plain": [
       "Counter({1: 1})"
      ]
     },
     "execution_count": 138,
     "metadata": {},
     "output_type": "execute_result"
    }
   ],
   "source": [
    "d\n",
    "d.most_common(1)[0]\n",
    "d = Counter()\n",
    "d[1]=1 #make sense now..\n",
    "d\n"
   ]
  },
  {
   "cell_type": "code",
   "execution_count": 95,
   "metadata": {},
   "outputs": [
    {
     "name": "stdout",
     "output_type": "stream",
     "text": [
      "index:  0 , result of vote:  1 , label:  1 , data:  [ 5.7  2.8  4.1  1.3]\n",
      "index:  1 , result of vote:  2 , label:  2 , data:  [ 6.5  3.   5.5  1.8]\n",
      "index:  2 , result of vote:  1 , label:  1 , data:  [ 6.3  2.3  4.4  1.3]\n",
      "index:  3 , result of vote:  1 , label:  1 , data:  [ 6.4  2.9  4.3  1.3]\n",
      "index:  4 , result of vote:  2 , label:  2 , data:  [ 5.6  2.8  4.9  2. ]\n",
      "index:  5 , result of vote:  2 , label:  2 , data:  [ 5.9  3.   5.1  1.8]\n",
      "index:  6 , result of vote:  0 , label:  0 , data:  [ 5.4  3.4  1.7  0.2]\n",
      "index:  7 , result of vote:  1 , label:  1 , data:  [ 6.1  2.8  4.   1.3]\n",
      "index:  8 , result of vote:  1 , label:  2 , data:  [ 4.9  2.5  4.5  1.7]\n",
      "index:  9 , result of vote:  0 , label:  0 , data:  [ 5.8  4.   1.2  0.2]\n",
      "index:  10 , result of vote:  1 , label:  1 , data:  [ 5.8  2.6  4.   1.2]\n",
      "index:  11 , result of vote:  2 , label:  2 , data:  [ 7.1  3.   5.9  2.1]\n"
     ]
    }
   ],
   "source": [
    "for i in range(n_training_samples):\n",
    "    neighbors = get_neighbors(learnset_data, \n",
    "                              learnset_labels, \n",
    "                              testset_data[i], \n",
    "                              3, \n",
    "                              distance=distance)\n",
    "    print(\"index: \", i, \n",
    "          \", result of vote: \", vote(neighbors), \n",
    "          \", label: \", testset_labels[i], \n",
    "          \", data: \", testset_data[i])"
   ]
  },
  {
   "cell_type": "code",
   "execution_count": 98,
   "metadata": {},
   "outputs": [
    {
     "data": {
      "text/plain": [
       "[('a', 5), ('b', 4), ('c', 3)]"
      ]
     },
     "execution_count": 98,
     "metadata": {},
     "output_type": "execute_result"
    }
   ],
   "source": [
    "c = Counter('abcdeabcdabcaba') #count elements from a string\n",
    "c.most_common(3)  #three most common elements"
   ]
  },
  {
   "cell_type": "code",
   "execution_count": 100,
   "metadata": {},
   "outputs": [
    {
     "data": {
      "text/plain": [
       "'a'"
      ]
     },
     "execution_count": 100,
     "metadata": {},
     "output_type": "execute_result"
    }
   ],
   "source": [
    "c.most_common(3)[0][0] #() indicates "
   ]
  },
  {
   "cell_type": "code",
   "execution_count": 132,
   "metadata": {
    "collapsed": true
   },
   "outputs": [],
   "source": [
    "def vote(neighbors):\n",
    "    class_counter = Counter()\n",
    "    for neighbor in neighbors:  #dumb..neighbor can be named as anything else too\n",
    "        #it's just for indexing neighbors\n",
    "        class_counter[neighbor[2]] += 1 #remember neighbor[2] is label, not distance...\n",
    "        #?if neighbor[2] are not the same, will they be added together? No, cuz class_counter[label] means the count\n",
    "        #number of this unique label, don't forget it's class_counter[label]= class_counter[label] +1, so if the \n",
    "        #same label repeats, the count number will be added up\n",
    "        #here it's neighbor[2], not neighbors[2]!\n",
    "    return class_counter\n",
    "#what is the exact meaning of neighbor[2]???????!!\n"
   ]
  },
  {
   "cell_type": "code",
   "execution_count": 104,
   "metadata": {},
   "outputs": [
    {
     "data": {
      "text/plain": [
       "[(array([ 7.2,  3.2,  6. ,  1.8]), 0.38729833462074187, 2),\n",
       " (array([ 6.9,  3.2,  5.7,  2.3]), 0.39999999999999969, 2),\n",
       " (array([ 6.8,  3.2,  5.9,  2.3]), 0.4123105625617659, 2)]"
      ]
     },
     "execution_count": 104,
     "metadata": {},
     "output_type": "execute_result"
    }
   ],
   "source": [
    "neighbors #why ...."
   ]
  },
  {
   "cell_type": "code",
   "execution_count": 139,
   "metadata": {},
   "outputs": [
    {
     "data": {
      "text/plain": [
       "Counter({0: 1, 1: 1, 2: 1})"
      ]
     },
     "execution_count": 139,
     "metadata": {},
     "output_type": "execute_result"
    }
   ],
   "source": [
    "#the only way to understand the confusing code is to simulate the logic in a simpler way by yourself\n",
    "#you can simulate neighbor in neighbors:\n",
    "N = [(np.array([ 7.2,  3.2,  6. ,  1.8]), 0.38729833462074187, 1),\n",
    " (np.array([ 6.9,  3.2,  5.7,  2.3]), 0.39999999999999969, 0),\n",
    " (np.array([ 6.8,  3.2,  5.9,  2.3]), 0.4123105625617659, 2)]\n",
    "vote(N)\n",
    "\n",
    "#now i understand! if for a in A (A is in very complex format: [....,....,....]), no matter how complex it is in ...,\n",
    "#a represents the thing separated by \",\""
   ]
  },
  {
   "cell_type": "code",
   "execution_count": 110,
   "metadata": {},
   "outputs": [
    {
     "data": {
      "text/plain": [
       "array([4, 7, 9, 7, 1, 1, 9, 9, 4, 9])"
      ]
     },
     "execution_count": 110,
     "metadata": {},
     "output_type": "execute_result"
    }
   ],
   "source": [
    "temp = np.random.randint(1,10, 10)  \n",
    "temp"
   ]
  },
  {
   "cell_type": "code",
   "execution_count": 112,
   "metadata": {
    "collapsed": true
   },
   "outputs": [],
   "source": [
    "temp.sort() #this can't output the result directly, you need to type temp again to get result"
   ]
  },
  {
   "cell_type": "code",
   "execution_count": 114,
   "metadata": {},
   "outputs": [
    {
     "data": {
      "text/plain": [
       "array([1, 1, 4, 4, 7, 7, 9, 9, 9, 9])"
      ]
     },
     "execution_count": 114,
     "metadata": {},
     "output_type": "execute_result"
    }
   ],
   "source": [
    "temp"
   ]
  },
  {
   "cell_type": "code",
   "execution_count": 199,
   "metadata": {
    "collapsed": true
   },
   "outputs": [],
   "source": [
    "#Vote based on probability (it's the same thing, higher probability means it has more votes)\n",
    "def vote_prob(neighbors):\n",
    "    class_counter = Counter()\n",
    "    for neighbor in neighbors:\n",
    "        class_counter[neighbor[2]] += 1\n",
    "    labels, votes = zip(*class_counter.most_common()) #unpack counter\n",
    "    winner = class_counter.most_common(1)[0][0]\n",
    "    votes4winner = class_counter.most_common(1)[0][1]\n",
    "    return winner, votes4winner/sum(votes)\n",
    "    "
   ]
  },
  {
   "cell_type": "code",
   "execution_count": 141,
   "metadata": {
    "collapsed": true
   },
   "outputs": [],
   "source": [
    "?zip"
   ]
  },
  {
   "cell_type": "code",
   "execution_count": 168,
   "metadata": {},
   "outputs": [
    {
     "ename": "SyntaxError",
     "evalue": "non-default argument follows default argument (<ipython-input-168-9cd46d634c0c>, line 1)",
     "output_type": "error",
     "traceback": [
      "\u001b[0;36m  File \u001b[0;32m\"<ipython-input-168-9cd46d634c0c>\"\u001b[0;36m, line \u001b[0;32m1\u001b[0m\n\u001b[0;31m    def fn(a, b=1 , c):\u001b[0m\n\u001b[0m          ^\u001b[0m\n\u001b[0;31mSyntaxError\u001b[0m\u001b[0;31m:\u001b[0m non-default argument follows default argument\n"
     ]
    }
   ],
   "source": [
    "def fn(a, b=1 , c):  #!!next argument after keyword argument must be keyword argument too\n",
    "    return a*b + c"
   ]
  },
  {
   "cell_type": "code",
   "execution_count": 169,
   "metadata": {},
   "outputs": [
    {
     "ename": "SyntaxError",
     "evalue": "positional argument follows keyword argument (<ipython-input-169-ff9184e34895>, line 4)",
     "output_type": "error",
     "traceback": [
      "\u001b[0;36m  File \u001b[0;32m\"<ipython-input-169-ff9184e34895>\"\u001b[0;36m, line \u001b[0;32m4\u001b[0m\n\u001b[0;31m    fn(c=4, b, a=5)\u001b[0m\n\u001b[0m           ^\u001b[0m\n\u001b[0;31mSyntaxError\u001b[0m\u001b[0;31m:\u001b[0m positional argument follows keyword argument\n"
     ]
    }
   ],
   "source": [
    "def fn(a, b=1, c=1):   #which means there should not be like non-default argument after default argument\n",
    "    return a*b + c\n",
    "fn(c = 4, a = 5) #9\n",
    "fn(c=4, b, a=5) #!!b should be specified, otherwise it'll be recognized as positional arg even though it's defined as\n",
    "#keyword in the definition"
   ]
  },
  {
   "cell_type": "code",
   "execution_count": 171,
   "metadata": {},
   "outputs": [
    {
     "data": {
      "text/plain": [
       "14"
      ]
     },
     "execution_count": 171,
     "metadata": {},
     "output_type": "execute_result"
    }
   ],
   "source": [
    "fn(c=4, b=1, a=5)\n",
    "fn(c =4, b =2, a=5)  "
   ]
  },
  {
   "cell_type": "code",
   "execution_count": 174,
   "metadata": {
    "collapsed": true
   },
   "outputs": [],
   "source": [
    "def fn(a, b=1, c=1):   \n",
    "    return a*c + b"
   ]
  },
  {
   "cell_type": "code",
   "execution_count": 175,
   "metadata": {},
   "outputs": [
    {
     "data": {
      "text/plain": [
       "13"
      ]
     },
     "execution_count": 175,
     "metadata": {},
     "output_type": "execute_result"
    }
   ],
   "source": [
    "fn(c=2, b=3, a=5) "
   ]
  },
  {
   "cell_type": "code",
   "execution_count": 176,
   "metadata": {},
   "outputs": [
    {
     "ename": "TypeError",
     "evalue": "fn() missing 1 required positional argument: 'a'",
     "output_type": "error",
     "traceback": [
      "\u001b[0;31m---------------------------------------------------------------------------\u001b[0m",
      "\u001b[0;31mTypeError\u001b[0m                                 Traceback (most recent call last)",
      "\u001b[0;32m<ipython-input-176-d0ec80474a84>\u001b[0m in \u001b[0;36m<module>\u001b[0;34m()\u001b[0m\n\u001b[0;32m----> 1\u001b[0;31m \u001b[0mfn\u001b[0m\u001b[0;34m(\u001b[0m\u001b[0mc\u001b[0m\u001b[0;34m=\u001b[0m\u001b[0;36m1\u001b[0m\u001b[0;34m)\u001b[0m\u001b[0;34m\u001b[0m\u001b[0m\n\u001b[0m",
      "\u001b[0;31mTypeError\u001b[0m: fn() missing 1 required positional argument: 'a'"
     ]
    }
   ],
   "source": [
    "fn(c=1) #TypeError: fn() missing 1 required positional argument: 'a'"
   ]
  },
  {
   "cell_type": "code",
   "execution_count": 177,
   "metadata": {},
   "outputs": [
    {
     "data": {
      "text/plain": [
       "23"
      ]
     },
     "execution_count": 177,
     "metadata": {},
     "output_type": "execute_result"
    }
   ],
   "source": [
    "fn(3, c=5, b=8)"
   ]
  },
  {
   "cell_type": "code",
   "execution_count": 191,
   "metadata": {},
   "outputs": [
    {
     "name": "stdout",
     "output_type": "stream",
     "text": [
      "[]\n",
      "{(2, 'two'), (3, 'three'), (1, 'one')}\n"
     ]
    }
   ],
   "source": [
    "numberList = [1, 2, 3]\n",
    "strList = ['one', 'two', 'three']\n",
    "\n",
    "# No iterables are passed\n",
    "result = zip() #The zip() function returns an iterator of tuples based on the iterable object.\n",
    "\n",
    "# Converting iterator to list\n",
    "resultList = list(result)\n",
    "print(resultList)\n",
    "\n",
    "# Two iterables are passed\n",
    "result = zip(numberList, strList)\n",
    "\n",
    "# Converting itertor to set\n",
    "resultSet = set(result)\n",
    "print(resultSet)"
   ]
  },
  {
   "cell_type": "code",
   "execution_count": 192,
   "metadata": {
    "collapsed": true
   },
   "outputs": [],
   "source": [
    "?set #build an unordered collection of unique elements\n",
    "#that's why 2 appears in the first place"
   ]
  },
  {
   "cell_type": "code",
   "execution_count": 198,
   "metadata": {},
   "outputs": [
    {
     "name": "stdout",
     "output_type": "stream",
     "text": [
      "[('x', 3), ('y', 4), ('z', 5)]\n",
      "c = ('x', 'y', 'z')\n",
      "v = (3, 4, 5)\n"
     ]
    },
    {
     "data": {
      "text/plain": [
       "(3, 4, 5)"
      ]
     },
     "execution_count": 198,
     "metadata": {},
     "output_type": "execute_result"
    }
   ],
   "source": [
    "coordinate = ['x', 'y', 'z']\n",
    "value = [3, 4, 5, 0, 9]\n",
    "\n",
    "result = zip(coordinate, value) #it doesn't output anything useful; so you need to either use set/list to output\n",
    "#zip result \n",
    "resultList = list(result)\n",
    "print(resultList)\n",
    "\n",
    "c, v =  zip(*resultList) #ValueError: too many values to unpack (expected 2)\n",
    "print('c =', c)\n",
    "print('v =', v)\n",
    "c\n",
    "v\n",
    "#in order to get separate results, you need to unpack result "
   ]
  },
  {
   "cell_type": "code",
   "execution_count": 197,
   "metadata": {},
   "outputs": [
    {
     "data": {
      "text/plain": [
       "<zip at 0x1a10e391c8>"
      ]
     },
     "execution_count": 197,
     "metadata": {},
     "output_type": "execute_result"
    }
   ],
   "source": [
    "result"
   ]
  },
  {
   "cell_type": "code",
   "execution_count": 178,
   "metadata": {},
   "outputs": [
    {
     "data": {
      "text/plain": [
       "<zip at 0x1a10e78f08>"
      ]
     },
     "execution_count": 178,
     "metadata": {},
     "output_type": "execute_result"
    }
   ],
   "source": [
    "numberList = [1, 2, 3]\n",
    "strList = ['one', 'two', 'three']\n",
    "\n",
    "result = zip(numberList, strList)\n",
    "result"
   ]
  },
  {
   "cell_type": "code",
   "execution_count": 179,
   "metadata": {},
   "outputs": [
    {
     "ename": "TypeError",
     "evalue": "'zip' object is not callable",
     "output_type": "error",
     "traceback": [
      "\u001b[0;31m---------------------------------------------------------------------------\u001b[0m",
      "\u001b[0;31mTypeError\u001b[0m                                 Traceback (most recent call last)",
      "\u001b[0;32m<ipython-input-179-4e9bd9a07d5c>\u001b[0m in \u001b[0;36m<module>\u001b[0;34m()\u001b[0m\n\u001b[1;32m      3\u001b[0m \u001b[0;34m\u001b[0m\u001b[0m\n\u001b[1;32m      4\u001b[0m \u001b[0mresult\u001b[0m \u001b[0;34m=\u001b[0m \u001b[0mzip\u001b[0m\u001b[0;34m(\u001b[0m\u001b[0;34m)\u001b[0m\u001b[0;34m\u001b[0m\u001b[0m\n\u001b[0;32m----> 5\u001b[0;31m \u001b[0mresult\u001b[0m\u001b[0;34m(\u001b[0m\u001b[0mnumberList\u001b[0m\u001b[0;34m,\u001b[0m \u001b[0mstrList\u001b[0m\u001b[0;34m)\u001b[0m\u001b[0;34m\u001b[0m\u001b[0m\n\u001b[0m",
      "\u001b[0;31mTypeError\u001b[0m: 'zip' object is not callable"
     ]
    }
   ],
   "source": [
    "numberList = [1, 2, 3]\n",
    "strList = ['one', 'two', 'three']\n",
    "\n",
    "result = zip()\n",
    "result(numberList, strList)"
   ]
  },
  {
   "cell_type": "code",
   "execution_count": 180,
   "metadata": {},
   "outputs": [
    {
     "ename": "TypeError",
     "evalue": "'Counter' object is not callable",
     "output_type": "error",
     "traceback": [
      "\u001b[0;31m---------------------------------------------------------------------------\u001b[0m",
      "\u001b[0;31mTypeError\u001b[0m                                 Traceback (most recent call last)",
      "\u001b[0;32m<ipython-input-180-1b8d509593fa>\u001b[0m in \u001b[0;36m<module>\u001b[0;34m()\u001b[0m\n\u001b[1;32m      1\u001b[0m \u001b[0mc\u001b[0m \u001b[0;34m=\u001b[0m \u001b[0mCounter\u001b[0m\u001b[0;34m(\u001b[0m\u001b[0;34m)\u001b[0m\u001b[0;34m\u001b[0m\u001b[0m\n\u001b[0;32m----> 2\u001b[0;31m \u001b[0mc\u001b[0m\u001b[0;34m(\u001b[0m\u001b[0;36m1\u001b[0m\u001b[0;34m)\u001b[0m\u001b[0;34m\u001b[0m\u001b[0m\n\u001b[0m",
      "\u001b[0;31mTypeError\u001b[0m: 'Counter' object is not callable"
     ]
    }
   ],
   "source": [
    "c = Counter()\n",
    "c(1)"
   ]
  },
  {
   "cell_type": "code",
   "execution_count": 182,
   "metadata": {},
   "outputs": [
    {
     "ename": "TypeError",
     "evalue": "'int' object is not iterable",
     "output_type": "error",
     "traceback": [
      "\u001b[0;31m---------------------------------------------------------------------------\u001b[0m",
      "\u001b[0;31mTypeError\u001b[0m                                 Traceback (most recent call last)",
      "\u001b[0;32m<ipython-input-182-eb8ed9e8d0b6>\u001b[0m in \u001b[0;36m<module>\u001b[0;34m()\u001b[0m\n\u001b[0;32m----> 1\u001b[0;31m \u001b[0mc\u001b[0m \u001b[0;34m=\u001b[0m \u001b[0mCounter\u001b[0m\u001b[0;34m(\u001b[0m\u001b[0;36m1\u001b[0m\u001b[0;34m)\u001b[0m\u001b[0;34m\u001b[0m\u001b[0m\n\u001b[0m\u001b[1;32m      2\u001b[0m \u001b[0mc\u001b[0m\u001b[0;34m\u001b[0m\u001b[0m\n",
      "\u001b[0;32m/anaconda3/lib/python3.6/collections/__init__.py\u001b[0m in \u001b[0;36m__init__\u001b[0;34m(*args, **kwds)\u001b[0m\n\u001b[1;32m    533\u001b[0m             \u001b[0;32mraise\u001b[0m \u001b[0mTypeError\u001b[0m\u001b[0;34m(\u001b[0m\u001b[0;34m'expected at most 1 arguments, got %d'\u001b[0m \u001b[0;34m%\u001b[0m \u001b[0mlen\u001b[0m\u001b[0;34m(\u001b[0m\u001b[0margs\u001b[0m\u001b[0;34m)\u001b[0m\u001b[0;34m)\u001b[0m\u001b[0;34m\u001b[0m\u001b[0m\n\u001b[1;32m    534\u001b[0m         \u001b[0msuper\u001b[0m\u001b[0;34m(\u001b[0m\u001b[0mCounter\u001b[0m\u001b[0;34m,\u001b[0m \u001b[0mself\u001b[0m\u001b[0;34m)\u001b[0m\u001b[0;34m.\u001b[0m\u001b[0m__init__\u001b[0m\u001b[0;34m(\u001b[0m\u001b[0;34m)\u001b[0m\u001b[0;34m\u001b[0m\u001b[0m\n\u001b[0;32m--> 535\u001b[0;31m         \u001b[0mself\u001b[0m\u001b[0;34m.\u001b[0m\u001b[0mupdate\u001b[0m\u001b[0;34m(\u001b[0m\u001b[0;34m*\u001b[0m\u001b[0margs\u001b[0m\u001b[0;34m,\u001b[0m \u001b[0;34m**\u001b[0m\u001b[0mkwds\u001b[0m\u001b[0;34m)\u001b[0m\u001b[0;34m\u001b[0m\u001b[0m\n\u001b[0m\u001b[1;32m    536\u001b[0m \u001b[0;34m\u001b[0m\u001b[0m\n\u001b[1;32m    537\u001b[0m     \u001b[0;32mdef\u001b[0m \u001b[0m__missing__\u001b[0m\u001b[0;34m(\u001b[0m\u001b[0mself\u001b[0m\u001b[0;34m,\u001b[0m \u001b[0mkey\u001b[0m\u001b[0;34m)\u001b[0m\u001b[0;34m:\u001b[0m\u001b[0;34m\u001b[0m\u001b[0m\n",
      "\u001b[0;32m/anaconda3/lib/python3.6/collections/__init__.py\u001b[0m in \u001b[0;36mupdate\u001b[0;34m(*args, **kwds)\u001b[0m\n\u001b[1;32m    620\u001b[0m                     \u001b[0msuper\u001b[0m\u001b[0;34m(\u001b[0m\u001b[0mCounter\u001b[0m\u001b[0;34m,\u001b[0m \u001b[0mself\u001b[0m\u001b[0;34m)\u001b[0m\u001b[0;34m.\u001b[0m\u001b[0mupdate\u001b[0m\u001b[0;34m(\u001b[0m\u001b[0miterable\u001b[0m\u001b[0;34m)\u001b[0m \u001b[0;31m# fast path when counter is empty\u001b[0m\u001b[0;34m\u001b[0m\u001b[0m\n\u001b[1;32m    621\u001b[0m             \u001b[0;32melse\u001b[0m\u001b[0;34m:\u001b[0m\u001b[0;34m\u001b[0m\u001b[0m\n\u001b[0;32m--> 622\u001b[0;31m                 \u001b[0m_count_elements\u001b[0m\u001b[0;34m(\u001b[0m\u001b[0mself\u001b[0m\u001b[0;34m,\u001b[0m \u001b[0miterable\u001b[0m\u001b[0;34m)\u001b[0m\u001b[0;34m\u001b[0m\u001b[0m\n\u001b[0m\u001b[1;32m    623\u001b[0m         \u001b[0;32mif\u001b[0m \u001b[0mkwds\u001b[0m\u001b[0;34m:\u001b[0m\u001b[0;34m\u001b[0m\u001b[0m\n\u001b[1;32m    624\u001b[0m             \u001b[0mself\u001b[0m\u001b[0;34m.\u001b[0m\u001b[0mupdate\u001b[0m\u001b[0;34m(\u001b[0m\u001b[0mkwds\u001b[0m\u001b[0;34m)\u001b[0m\u001b[0;34m\u001b[0m\u001b[0m\n",
      "\u001b[0;31mTypeError\u001b[0m: 'int' object is not iterable"
     ]
    }
   ],
   "source": [
    "c = Counter(1)  #TypeError: 'int' object is not iterable\n",
    "c\n",
    "#iterables - can be built-in iterables (like: list, string, dict), or user-defined iterables (object that has __iter__ method)."
   ]
  },
  {
   "cell_type": "code",
   "execution_count": 183,
   "metadata": {
    "scrolled": true
   },
   "outputs": [
    {
     "ename": "TypeError",
     "evalue": "expected at most 1 arguments, got 2",
     "output_type": "error",
     "traceback": [
      "\u001b[0;31m---------------------------------------------------------------------------\u001b[0m",
      "\u001b[0;31mTypeError\u001b[0m                                 Traceback (most recent call last)",
      "\u001b[0;32m<ipython-input-183-2d9be3c8cec9>\u001b[0m in \u001b[0;36m<module>\u001b[0;34m()\u001b[0m\n\u001b[0;32m----> 1\u001b[0;31m \u001b[0mc\u001b[0m \u001b[0;34m=\u001b[0m \u001b[0mCounter\u001b[0m\u001b[0;34m(\u001b[0m\u001b[0;36m1\u001b[0m\u001b[0;34m,\u001b[0m\u001b[0;36m2\u001b[0m\u001b[0;34m)\u001b[0m\u001b[0;34m\u001b[0m\u001b[0m\n\u001b[0m",
      "\u001b[0;32m/anaconda3/lib/python3.6/collections/__init__.py\u001b[0m in \u001b[0;36m__init__\u001b[0;34m(*args, **kwds)\u001b[0m\n\u001b[1;32m    531\u001b[0m         \u001b[0mself\u001b[0m\u001b[0;34m,\u001b[0m \u001b[0;34m*\u001b[0m\u001b[0margs\u001b[0m \u001b[0;34m=\u001b[0m \u001b[0margs\u001b[0m\u001b[0;34m\u001b[0m\u001b[0m\n\u001b[1;32m    532\u001b[0m         \u001b[0;32mif\u001b[0m \u001b[0mlen\u001b[0m\u001b[0;34m(\u001b[0m\u001b[0margs\u001b[0m\u001b[0;34m)\u001b[0m \u001b[0;34m>\u001b[0m \u001b[0;36m1\u001b[0m\u001b[0;34m:\u001b[0m\u001b[0;34m\u001b[0m\u001b[0m\n\u001b[0;32m--> 533\u001b[0;31m             \u001b[0;32mraise\u001b[0m \u001b[0mTypeError\u001b[0m\u001b[0;34m(\u001b[0m\u001b[0;34m'expected at most 1 arguments, got %d'\u001b[0m \u001b[0;34m%\u001b[0m \u001b[0mlen\u001b[0m\u001b[0;34m(\u001b[0m\u001b[0margs\u001b[0m\u001b[0;34m)\u001b[0m\u001b[0;34m)\u001b[0m\u001b[0;34m\u001b[0m\u001b[0m\n\u001b[0m\u001b[1;32m    534\u001b[0m         \u001b[0msuper\u001b[0m\u001b[0;34m(\u001b[0m\u001b[0mCounter\u001b[0m\u001b[0;34m,\u001b[0m \u001b[0mself\u001b[0m\u001b[0;34m)\u001b[0m\u001b[0;34m.\u001b[0m\u001b[0m__init__\u001b[0m\u001b[0;34m(\u001b[0m\u001b[0;34m)\u001b[0m\u001b[0;34m\u001b[0m\u001b[0m\n\u001b[1;32m    535\u001b[0m         \u001b[0mself\u001b[0m\u001b[0;34m.\u001b[0m\u001b[0mupdate\u001b[0m\u001b[0;34m(\u001b[0m\u001b[0;34m*\u001b[0m\u001b[0margs\u001b[0m\u001b[0;34m,\u001b[0m \u001b[0;34m**\u001b[0m\u001b[0mkwds\u001b[0m\u001b[0;34m)\u001b[0m\u001b[0;34m\u001b[0m\u001b[0m\n",
      "\u001b[0;31mTypeError\u001b[0m: expected at most 1 arguments, got 2"
     ]
    }
   ],
   "source": [
    "c = Counter(1,2) #TypeError: expected at most 1 arguments, got 2"
   ]
  },
  {
   "cell_type": "code",
   "execution_count": 184,
   "metadata": {
    "collapsed": true
   },
   "outputs": [],
   "source": [
    "c = Counter(\"1,2\")"
   ]
  },
  {
   "cell_type": "code",
   "execution_count": 188,
   "metadata": {},
   "outputs": [
    {
     "data": {
      "text/plain": [
       "3"
      ]
     },
     "execution_count": 188,
     "metadata": {},
     "output_type": "execute_result"
    }
   ],
   "source": [
    "sum(c.values())"
   ]
  },
  {
   "cell_type": "code",
   "execution_count": 187,
   "metadata": {},
   "outputs": [
    {
     "data": {
      "text/plain": [
       "Counter({',': 1, '1': 1, '2': 1})"
      ]
     },
     "execution_count": 187,
     "metadata": {},
     "output_type": "execute_result"
    }
   ],
   "source": [
    "c"
   ]
  },
  {
   "cell_type": "code",
   "execution_count": 190,
   "metadata": {},
   "outputs": [
    {
     "data": {
      "text/plain": [
       "<zip at 0x1a10e4e788>"
      ]
     },
     "execution_count": 190,
     "metadata": {},
     "output_type": "execute_result"
    }
   ],
   "source": [
    "numberList = [1, 2, 3]\n",
    "strList = ['one', 'two', 'three']\n",
    "\n",
    "zip(numberList, strList)"
   ]
  },
  {
   "cell_type": "code",
   "execution_count": 200,
   "metadata": {},
   "outputs": [
    {
     "name": "stdout",
     "output_type": "stream",
     "text": [
      "index:  0 , vote_prob:  (1, 1.0) , label:  1 , data:  [ 5.7  2.8  4.1  1.3]\n",
      "index:  1 , vote_prob:  (2, 1.0) , label:  2 , data:  [ 6.5  3.   5.5  1.8]\n",
      "index:  2 , vote_prob:  (1, 1.0) , label:  1 , data:  [ 6.3  2.3  4.4  1.3]\n",
      "index:  3 , vote_prob:  (1, 1.0) , label:  1 , data:  [ 6.4  2.9  4.3  1.3]\n",
      "index:  4 , vote_prob:  (2, 1.0) , label:  2 , data:  [ 5.6  2.8  4.9  2. ]\n",
      "index:  5 , vote_prob:  (2, 0.8) , label:  2 , data:  [ 5.9  3.   5.1  1.8]\n",
      "index:  6 , vote_prob:  (0, 1.0) , label:  0 , data:  [ 5.4  3.4  1.7  0.2]\n",
      "index:  7 , vote_prob:  (1, 1.0) , label:  1 , data:  [ 6.1  2.8  4.   1.3]\n",
      "index:  8 , vote_prob:  (1, 1.0) , label:  2 , data:  [ 4.9  2.5  4.5  1.7]\n",
      "index:  9 , vote_prob:  (0, 1.0) , label:  0 , data:  [ 5.8  4.   1.2  0.2]\n",
      "index:  10 , vote_prob:  (1, 1.0) , label:  1 , data:  [ 5.8  2.6  4.   1.2]\n",
      "index:  11 , vote_prob:  (2, 1.0) , label:  2 , data:  [ 7.1  3.   5.9  2.1]\n"
     ]
    }
   ],
   "source": [
    "for i in range(n_training_samples):\n",
    "    neighbors = get_neighbors(learnset_data, \n",
    "                              learnset_labels, \n",
    "                              testset_data[i], \n",
    "                              5, \n",
    "                              distance=distance)\n",
    "    print(\"index: \", i, \n",
    "          \", vote_prob: \", vote_prob(neighbors), \n",
    "          \", label: \", testset_labels[i], \n",
    "          \", data: \", testset_data[i])"
   ]
  },
  {
   "cell_type": "code",
   "execution_count": 20,
   "metadata": {},
   "outputs": [
    {
     "ename": "TypeError",
     "evalue": "'builtin_function_or_method' object is not subscriptable",
     "output_type": "error",
     "traceback": [
      "\u001b[0;31m---------------------------------------------------------------------------\u001b[0m",
      "\u001b[0;31mTypeError\u001b[0m                                 Traceback (most recent call last)",
      "\u001b[0;32m<ipython-input-20-3b2ff1e6065c>\u001b[0m in \u001b[0;36m<module>\u001b[0;34m()\u001b[0m\n\u001b[1;32m      4\u001b[0m \u001b[0ms\u001b[0m \u001b[0;34m=\u001b[0m \u001b[0mlist\u001b[0m\u001b[0;34m(\u001b[0m\u001b[0;34m)\u001b[0m\u001b[0;34m\u001b[0m\u001b[0m\n\u001b[1;32m      5\u001b[0m \u001b[0;32mfor\u001b[0m \u001b[0mi\u001b[0m \u001b[0;32min\u001b[0m \u001b[0mrange\u001b[0m\u001b[0;34m(\u001b[0m\u001b[0;36m1\u001b[0m\u001b[0;34m,\u001b[0m\u001b[0;36m1001\u001b[0m\u001b[0;34m)\u001b[0m\u001b[0;34m:\u001b[0m\u001b[0;34m\u001b[0m\u001b[0m\n\u001b[0;32m----> 6\u001b[0;31m     \u001b[0ms\u001b[0m \u001b[0;34m+=\u001b[0m \u001b[0msum\u001b[0m\u001b[0;34m[\u001b[0m\u001b[0mi\u001b[0m\u001b[0;34m]\u001b[0m\u001b[0;34m\u001b[0m\u001b[0m\n\u001b[0m\u001b[1;32m      7\u001b[0m \u001b[0;32mreturn\u001b[0m \u001b[0ms\u001b[0m\u001b[0;34m\u001b[0m\u001b[0m\n",
      "\u001b[0;31mTypeError\u001b[0m: 'builtin_function_or_method' object is not subscriptable"
     ]
    }
   ],
   "source": [
    "?range\n",
    "10 % 3\n",
    "list(range(1,1001))\n",
    "s = list()\n",
    "for i in range(1,1001):\n",
    "    s += sum[i]\n",
    "return s"
   ]
  },
  {
   "cell_type": "code",
   "execution_count": 14,
   "metadata": {
    "collapsed": true
   },
   "outputs": [],
   "source": []
  },
  {
   "cell_type": "code",
   "execution_count": null,
   "metadata": {
    "collapsed": true
   },
   "outputs": [],
   "source": []
  }
 ],
 "metadata": {
  "kernelspec": {
   "display_name": "Python 3",
   "language": "python",
   "name": "python3"
  },
  "language_info": {
   "codemirror_mode": {
    "name": "ipython",
    "version": 3
   },
   "file_extension": ".py",
   "mimetype": "text/x-python",
   "name": "python",
   "nbconvert_exporter": "python",
   "pygments_lexer": "ipython3",
   "version": "3.6.3"
  }
 },
 "nbformat": 4,
 "nbformat_minor": 2
}
